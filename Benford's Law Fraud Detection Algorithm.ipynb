{
 "cells": [
  {
   "cell_type": "code",
   "execution_count": null,
   "id": "3cf1094c",
   "metadata": {},
   "outputs": [],
   "source": [
    "import matplotlib.pyplot as plt\n",
    "\n",
    "#Read in a txt document\n",
    "with open('numbers.txt', 'r') as file:\n",
    "    content = file.read()"
   ]
  },
  {
   "cell_type": "code",
   "execution_count": null,
   "id": "57fc185e",
   "metadata": {},
   "outputs": [],
   "source": [
    "#Go through each digit and add it to a list\n",
    "digits = [int(char) for char in content if char.isdigit()]"
   ]
  },
  {
   "cell_type": "code",
   "execution_count": null,
   "id": "cc5a0fb1",
   "metadata": {},
   "outputs": [],
   "source": [
    "#Find the frequency of each number occurring in the list\n",
    "digit_counts = {i: digits.count(i) for i in range(10)}"
   ]
  },
  {
   "cell_type": "code",
   "execution_count": null,
   "id": "001364d3",
   "metadata": {},
   "outputs": [],
   "source": [
    "# Calculate occurrence values\n",
    "total_values = len(digits)\n",
    "occurrence_values = {digit: count/total_values for digit, count in digit_counts.items()}"
   ]
  },
  {
   "cell_type": "code",
   "execution_count": null,
   "id": "23b732d7",
   "metadata": {},
   "outputs": [],
   "source": [
    "#Show a bar graph\n",
    "labels = list(occurrence_values.keys())\n",
    "values = list(occurrence_values.values())\n",
    "\n",
    "plt.bar(labels, values)\n",
    "plt.xlabel('Digit')\n",
    "plt.ylabel('Occurrence Value')\n",
    "plt.title('Occurrence Value of Each Digit in the Document')\n",
    "plt.xticks(labels)\n",
    "plt.show()"
   ]
  },
  {
   "cell_type": "code",
   "execution_count": null,
   "id": "766640a6",
   "metadata": {},
   "outputs": [],
   "source": [
    "# Calculate percent error for each value\n",
    "expected_counts = {i: digit_counts[1] / i for i in range(2, 10)}\n",
    "percent_errors = {i: abs(digit_counts[i] - expected_counts[i]) / expected_counts[i] * 100 for i in range(2, 10)}\n",
    "\n",
    "# Print the percent errors\n",
    "for digit, error in percent_errors.items():\n",
    "    print(f\"Percent Error for {digit}: {error:.2f}%\")"
   ]
  },
  {
   "cell_type": "code",
   "execution_count": null,
   "id": "1a28bbbe",
   "metadata": {},
   "outputs": [],
   "source": [
    "# Calculate the sum of the digits and create a new list from that sum\n",
    "sum_value = sum(digits)\n",
    "summed_digits_list = [int(digit) for digit in str(sum_value)]"
   ]
  },
  {
   "cell_type": "code",
   "execution_count": null,
   "id": "7906fbf7",
   "metadata": {},
   "outputs": [],
   "source": [
    "#Find the frequency of each number occurring in the list\n",
    "summed_digits_count = {i: digits.count(i) for i in range(10)}"
   ]
  },
  {
   "cell_type": "code",
   "execution_count": null,
   "id": "d7ba811e",
   "metadata": {},
   "outputs": [],
   "source": [
    "# Calculate occurrence values of the summed list\n",
    "total_values_sum = len(summed_digits_list)\n",
    "occurrence_values_sum = {summed_digits_list: count/total_values for summed_digits_list, count in summed_digits_count.items()}"
   ]
  },
  {
   "cell_type": "code",
   "execution_count": null,
   "id": "27401d3b",
   "metadata": {},
   "outputs": [],
   "source": [
    "#Show a bar graph\n",
    "labels = list(occurrence_values_sum.keys())\n",
    "values = list(occurrence_values_sum.values())\n",
    "\n",
    "plt.bar(labels, values)\n",
    "plt.xlabel('Digit')\n",
    "plt.ylabel('Occurrence Value')\n",
    "plt.title('Occurrence Value of Each Digit in the Document')\n",
    "plt.xticks(labels)\n",
    "plt.show()"
   ]
  },
  {
   "cell_type": "code",
   "execution_count": null,
   "id": "5443d86e",
   "metadata": {},
   "outputs": [],
   "source": [
    "# Calculate percent error for each value\n",
    "expected_counts_sum = {i: summed_digits_count[1] / i for i in range(2, 10)}\n",
    "percent_errors_sum = {i: abs(summed_digits_count[i] - expected_counts_sum[i]) / expected_counts_sum[i] * 100 for i in range(2, 10)}\n",
    "\n",
    "# Print the percent errors\n",
    "for digit, error in percent_errors_sum.items():\n",
    "    print(f\"Percent Error for {digit}: {error:.2f}%\")"
   ]
  },
  {
   "cell_type": "markdown",
   "id": "30b4cf24",
   "metadata": {},
   "source": [
    "The final steps of this algorithm will take a large dataset of valid and fradulent financial statements and use a ML linear regression algorithm to determine the percent error which deems a financial statement fradulent."
   ]
  },
  {
   "cell_type": "code",
   "execution_count": null,
   "id": "98bd0012",
   "metadata": {},
   "outputs": [],
   "source": []
  }
 ],
 "metadata": {
  "kernelspec": {
   "display_name": "Python 3 (ipykernel)",
   "language": "python",
   "name": "python3"
  },
  "language_info": {
   "codemirror_mode": {
    "name": "ipython",
    "version": 3
   },
   "file_extension": ".py",
   "mimetype": "text/x-python",
   "name": "python",
   "nbconvert_exporter": "python",
   "pygments_lexer": "ipython3",
   "version": "3.10.9"
  }
 },
 "nbformat": 4,
 "nbformat_minor": 5
}
